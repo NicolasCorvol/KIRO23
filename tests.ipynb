{
 "cells": [
  {
   "cell_type": "code",
   "execution_count": 1,
   "metadata": {},
   "outputs": [],
   "source": [
    "from classes import Instance\n",
    "\n",
    "instance = Instance(\"./instances/toy.json\")\n",
    "\n"
   ]
  },
  {
   "cell_type": "code",
   "execution_count": 4,
   "metadata": {},
   "outputs": [
    {
     "data": {
      "text/plain": [
       "200.0"
      ]
     },
     "execution_count": 4,
     "metadata": {},
     "output_type": "execute_result"
    }
   ],
   "source": [
    "instance.substation_types[0].cost"
   ]
  },
  {
   "cell_type": "code",
   "execution_count": 6,
   "metadata": {},
   "outputs": [
    {
     "name": "stdout",
     "output_type": "stream",
     "text": [
      "[[40. 45.]]\n"
     ]
    }
   ],
   "source": [
    "from classes import *\n",
    "\n",
    "instances_size = ['toy', 'small', 'medium', 'large', 'huge']\n",
    "\n",
    "size = instances_size[1]\n",
    "\n",
    "filepath = f'./instances/{size}.json'\n",
    "\n",
    "instance = Instance(filepath)\n",
    "\n",
    "open_stations = instance.stations\n",
    "\n",
    "# Calcul de distances\n",
    "distances = np.zeros(shape=(len(instance.turbines), len(open_stations)))\n",
    "for i, station in enumerate(open_stations):\n",
    "    for j, turbine in enumerate(instance.turbines):\n",
    "        distances[j,i] = station.distance(turbine)\n",
    "\n",
    "print(distances)"
   ]
  }
 ],
 "metadata": {
  "kernelspec": {
   "display_name": ".venv",
   "language": "python",
   "name": "python3"
  },
  "language_info": {
   "codemirror_mode": {
    "name": "ipython",
    "version": 3
   },
   "file_extension": ".py",
   "mimetype": "text/x-python",
   "name": "python",
   "nbconvert_exporter": "python",
   "pygments_lexer": "ipython3",
   "version": "3.11.4"
  }
 },
 "nbformat": 4,
 "nbformat_minor": 2
}
