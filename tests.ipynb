{
 "cells": [
  {
   "cell_type": "code",
   "execution_count": 1,
   "metadata": {},
   "outputs": [],
   "source": [
    "from classes import Instance\n",
    "\n",
    "instance = Instance(\"./instances/toy.json\")\n",
    "\n"
   ]
  },
  {
   "cell_type": "code",
   "execution_count": 4,
   "metadata": {},
   "outputs": [
    {
     "data": {
      "text/plain": [
       "200.0"
      ]
     },
     "execution_count": 4,
     "metadata": {},
     "output_type": "execute_result"
    }
   ],
   "source": [
    "instance.substation_types[0].cost"
   ]
  },
  {
   "cell_type": "code",
   "execution_count": 10,
   "metadata": {},
   "outputs": [
    {
     "data": {
      "text/plain": [
       "array([ 2,  2,  2,  2,  2,  2,  2,  2,  2,  2,  2,  2,  2,  2,  2,  2,  2,\n",
       "        2,  2,  2,  5,  5,  5,  5,  5,  5,  5,  5,  5,  5,  5,  5,  5,  5,\n",
       "        5,  8,  8,  8,  8,  8,  8,  8,  8,  8,  8, 11, 11, 11, 11, 11, 11,\n",
       "       11, 11, 11, 11, 11, 11, 11, 11, 11, 11, 11, 11, 11, 11, 14, 14, 14,\n",
       "       14, 14, 14, 14, 14, 14, 14])"
      ]
     },
     "execution_count": 10,
     "metadata": {},
     "output_type": "execute_result"
    }
   ],
   "source": [
    "from classes import *\n",
    "\n",
    "instances_size = ['toy', 'small', 'medium', 'large', 'huge']\n",
    "\n",
    "size = instances_size[1]\n",
    "\n",
    "filepath = f'./instances/{size}.json'\n",
    "\n",
    "instance = Instance(filepath)\n",
    "\n",
    "open_stations = instance.stations\n",
    "\n",
    "# Calcul de distances\n",
    "distances = np.zeros(shape=(len(instance.turbines), len(open_stations)))\n",
    "for i, station in enumerate(open_stations):\n",
    "    for j, turbine in enumerate(instance.turbines):\n",
    "        distances[j,i] = station.distance(turbine)\n",
    "\n",
    "argmins = np.argmin(distances, axis=1)\n",
    "argmins"
   ]
  },
  {
   "cell_type": "code",
   "execution_count": 19,
   "metadata": {},
   "outputs": [
    {
     "data": {
      "text/plain": [
       "[2, 5, 8, 11, 14]"
      ]
     },
     "execution_count": 19,
     "metadata": {},
     "output_type": "execute_result"
    }
   ],
   "source": [
    "list(np.unique(argmins))"
   ]
  },
  {
   "cell_type": "code",
   "execution_count": 20,
   "metadata": {},
   "outputs": [
    {
     "data": {
      "text/plain": [
       "[<classes.Station at 0x7f59bad9ee10>,\n",
       " <classes.Station at 0x7f59bad9f2d0>,\n",
       " <classes.Station at 0x7f59bad9fa50>,\n",
       " <classes.Station at 0x7f59bad9fad0>,\n",
       " <classes.Station at 0x7f59bad9fc50>]"
      ]
     },
     "execution_count": 20,
     "metadata": {},
     "output_type": "execute_result"
    }
   ],
   "source": [
    "# Ne pas ouvrir les pas connectees\n",
    "open_stations = []\n",
    "for i in np.unique(argmins):\n",
    "    open_stations.append(instance.stations[i])\n",
    "\n",
    "open_stations\n"
   ]
  },
  {
   "cell_type": "code",
   "execution_count": 27,
   "metadata": {},
   "outputs": [
    {
     "name": "stdout",
     "output_type": "stream",
     "text": [
      "[<classes.Turbine object at 0x7f59bad87790>, <classes.Turbine object at 0x7f59bad853d0>, <classes.Turbine object at 0x7f59bad87350>, <classes.Turbine object at 0x7f59bad874d0>, <classes.Turbine object at 0x7f59bad87610>, <classes.Turbine object at 0x7f59bad87fd0>, <classes.Turbine object at 0x7f59bad86550>, <classes.Turbine object at 0x7f59bad87590>, <classes.Turbine object at 0x7f59bad85990>, <classes.Turbine object at 0x7f59bad876d0>, <classes.Turbine object at 0x7f59bad879d0>, <classes.Turbine object at 0x7f59bad85ed0>, <classes.Turbine object at 0x7f59bad85850>, <classes.Turbine object at 0x7f59bad87a90>, <classes.Turbine object at 0x7f59bad87e90>, <classes.Turbine object at 0x7f59bad87dd0>, <classes.Turbine object at 0x7f59bad84c90>, <classes.Turbine object at 0x7f59bad87e10>, <classes.Turbine object at 0x7f59bad85e90>, <classes.Turbine object at 0x7f59bad87d10>, <classes.Turbine object at 0x7f59bad87f10>, <classes.Turbine object at 0x7f59bad84d10>, <classes.Turbine object at 0x7f59bad87450>, <classes.Turbine object at 0x7f59bad872d0>, <classes.Turbine object at 0x7f59bad870d0>, <classes.Turbine object at 0x7f59bad87f90>, <classes.Turbine object at 0x7f59bad87090>, <classes.Turbine object at 0x7f59bad87110>, <classes.Turbine object at 0x7f59bad87290>, <classes.Turbine object at 0x7f59bad87490>, <classes.Turbine object at 0x7f59bad85250>, <classes.Turbine object at 0x7f59bad87850>, <classes.Turbine object at 0x7f59bad87510>, <classes.Turbine object at 0x7f59bad87410>, <classes.Turbine object at 0x7f59bad871d0>, <classes.Turbine object at 0x7f59bad87890>, <classes.Turbine object at 0x7f59bad87050>, <classes.Turbine object at 0x7f59bad87710>, <classes.Turbine object at 0x7f59bad87690>, <classes.Turbine object at 0x7f59bad87b50>, <classes.Turbine object at 0x7f59bad87950>, <classes.Turbine object at 0x7f59bad87a50>, <classes.Turbine object at 0x7f59bad87ad0>, <classes.Turbine object at 0x7f59bad877d0>, <classes.Turbine object at 0x7f59bad84990>, <classes.Turbine object at 0x7f59bad87c10>, <classes.Turbine object at 0x7f59bad87b90>, <classes.Turbine object at 0x7f59bad85910>, <classes.Turbine object at 0x7f59bad87b10>, <classes.Turbine object at 0x7f59bad87990>, <classes.Turbine object at 0x7f59bad87a10>, <classes.Turbine object at 0x7f59bad87910>, <classes.Turbine object at 0x7f59bad87810>, <classes.Turbine object at 0x7f59bad873d0>, <classes.Turbine object at 0x7f59bad87ed0>, <classes.Turbine object at 0x7f59bad87c50>, <classes.Turbine object at 0x7f59bad87bd0>, <classes.Turbine object at 0x7f59bad87e50>, <classes.Turbine object at 0x7f59bad87f50>, <classes.Turbine object at 0x7f59bad86c50>, <classes.Turbine object at 0x7f59bad84e50>, <classes.Turbine object at 0x7f59bad87650>, <classes.Turbine object at 0x7f59baf64810>, <classes.Turbine object at 0x7f59baf66210>, <classes.Turbine object at 0x7f59baf673d0>, <classes.Turbine object at 0x7f59baf64d10>, <classes.Turbine object at 0x7f59baf66750>, <classes.Turbine object at 0x7f59baf67f50>, <classes.Turbine object at 0x7f59baf65e90>, <classes.Turbine object at 0x7f59baf66c90>, <classes.Turbine object at 0x7f59baf665d0>, <classes.Turbine object at 0x7f59baf66010>, <classes.Turbine object at 0x7f59baf645d0>, <classes.Turbine object at 0x7f59baf669d0>, <classes.Turbine object at 0x7f59baf64890>]\n"
     ]
    }
   ],
   "source": [
    "print(leninstance.turbines)"
   ]
  },
  {
   "cell_type": "code",
   "execution_count": 32,
   "metadata": {},
   "outputs": [],
   "source": [
    "z = np.zeros(shape=(len(instance.turbines), len(instance.stations)))\n",
    "\n",
    "for i in range(len(instance.turbines)):\n",
    "    z[i, argmins[i]] = 1"
   ]
  },
  {
   "cell_type": "code",
   "execution_count": 11,
   "metadata": {},
   "outputs": [],
   "source": [
    "max_power = 0\n",
    "\n",
    "for scenario in instance.scenarios:\n",
    "    max_power += scenario.power_generation * scenario.probability"
   ]
  },
  {
   "cell_type": "code",
   "execution_count": 13,
   "metadata": {},
   "outputs": [
    {
     "data": {
      "text/plain": [
       "9.025199999999998"
      ]
     },
     "execution_count": 13,
     "metadata": {},
     "output_type": "execute_result"
    }
   ],
   "source": [
    "max_power"
   ]
  },
  {
   "cell_type": "code",
   "execution_count": 37,
   "metadata": {},
   "outputs": [
    {
     "name": "stdout",
     "output_type": "stream",
     "text": [
      "20.0\n",
      "15.0\n",
      "10.0\n",
      "20.0\n",
      "10.0\n"
     ]
    }
   ],
   "source": [
    "for station in open_stations:\n",
    "    print(np.sum(z[:, station.id - 1]))"
   ]
  },
  {
   "cell_type": "code",
   "execution_count": 41,
   "metadata": {},
   "outputs": [],
   "source": [
    "id_types = []\n",
    "\n",
    "for substation in open_stations:\n",
    "    diffs = []\n",
    "    for substation_type in instance.substation_types:\n",
    "        diffs.append(substation_type.rating - max_power * np.sum(z[:, substation.id - 1]))\n",
    "    diffs = np.array(diffs)\n",
    "    id_type = np.argmin(diffs) if np.any(diffs > 0) else np.argmax(diffs)\n",
    "    id_types.append(id_type)"
   ]
  },
  {
   "cell_type": "code",
   "execution_count": 43,
   "metadata": {},
   "outputs": [
    {
     "data": {
      "text/plain": [
       "array([ 109.748,  209.748,  409.748,  809.748, 1359.748,  109.748,\n",
       "        209.748,  409.748,  809.748, 1359.748,  109.748,  209.748,\n",
       "        409.748,  809.748, 1359.748,  109.748,  209.748,  409.748,\n",
       "        809.748, 1359.748])"
      ]
     },
     "execution_count": 43,
     "metadata": {},
     "output_type": "execute_result"
    }
   ],
   "source": [
    "diffs"
   ]
  },
  {
   "cell_type": "code",
   "execution_count": 24,
   "metadata": {},
   "outputs": [
    {
     "name": "stdout",
     "output_type": "stream",
     "text": [
      "200\n",
      "300\n",
      "500\n",
      "900\n",
      "1450\n",
      "200\n",
      "300\n",
      "500\n",
      "900\n",
      "1450\n",
      "200\n",
      "300\n",
      "500\n",
      "900\n",
      "1450\n",
      "200\n",
      "300\n",
      "500\n",
      "900\n",
      "1450\n"
     ]
    }
   ],
   "source": [
    "for substation_type in instance.substation_types:\n",
    "    print(substation_type.rating)"
   ]
  }
 ],
 "metadata": {
  "kernelspec": {
   "display_name": ".venv",
   "language": "python",
   "name": "python3"
  },
  "language_info": {
   "codemirror_mode": {
    "name": "ipython",
    "version": 3
   },
   "file_extension": ".py",
   "mimetype": "text/x-python",
   "name": "python",
   "nbconvert_exporter": "python",
   "pygments_lexer": "ipython3",
   "version": "3.11.4"
  }
 },
 "nbformat": 4,
 "nbformat_minor": 2
}
